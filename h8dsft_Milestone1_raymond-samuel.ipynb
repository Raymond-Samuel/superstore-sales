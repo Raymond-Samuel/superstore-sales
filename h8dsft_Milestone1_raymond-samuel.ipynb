{
 "cells": [
  {
   "cell_type": "markdown",
   "metadata": {},
   "source": [
    "# Perkenalan"
   ]
  },
  {
   "cell_type": "markdown",
   "metadata": {},
   "source": [
    "### - Nama : Raymond Samuel\n",
    "### - Batch : RMT-030"
   ]
  },
  {
   "cell_type": "markdown",
   "metadata": {},
   "source": [
    "## Link Dashboard\n",
    "https://public.tableau.com/views/Milestones1_17122205422570/Dashboard1?:language=en-US&publish=yes&:sid=&:display_count=n&:origin=viz_share_link"
   ]
  },
  {
   "cell_type": "markdown",
   "metadata": {},
   "source": [
    "## Identifikasi Masalah"
   ]
  },
  {
   "cell_type": "markdown",
   "metadata": {},
   "source": [
    "### SMART\n",
    "- Specific : Mengurangi jumlah produk yang slow-moving product pada inventory\n",
    "- Measurable : Mengurangi jumlah produk slow-moving di inventory sebesar 20% dalam 6 bulan ke depan.\n",
    "- Achiveable : Berdasarkan analisis data penjualan sebelumnya dan tren pasar, pengurangan jumlah produk slow-moving sebesar 20% dalam 6 bulan ke depan dianggap realistis dan dapat dicapai.\n",
    "- Relevant : Mengurangi jumlah produk slow-moving krusial dengan tujuan bisnis keseluruhan Superstore Giant untuk meningkatkan efisiensi pengelolaan stok dan efisiensi pada penjualan.\n",
    "- Time-bound : Tujuan mengurangi jumlah produk slow-mobing producrt harus di capai dalam kurun waktu 6 bulan kedepan "
   ]
  },
  {
   "cell_type": "markdown",
   "metadata": {},
   "source": [
    "### Problem Statement"
   ]
  },
  {
   "cell_type": "markdown",
   "metadata": {},
   "source": [
    "Superstore Giant bertujuan untuk meningkatkan efisiensi pengelolaan stok dan penjualan dengan mengurangi jumlah produk slow-moving di inventory(gudang) sebesar 20% dalam kurun waktu 6 bulan ke depan"
   ]
  },
  {
   "cell_type": "markdown",
   "metadata": {},
   "source": [
    "### 5W+1H:"
   ]
  },
  {
   "cell_type": "markdown",
   "metadata": {},
   "source": [
    "- Bagaimana tren dari kelesuruhan data (2015-2018)?\n",
    "- Customer segment mana yang menghasilkan sales tertinggi dan terendah?\n",
    "- Apa kategori produk terjual yang tertinggi dari sales 2015-2018\n",
    "- Apa sub-category produk yang merupakan slow-moving product atau produk yang paling sedikit penjualan?\n",
    "- Berapa rata-rata sales tahunan nya?\n",
    "- Yang mana lebih baik? Untuk rata-rata penjualan pada Region East atau West? \n",
    "- Adakah corelasi antara nilai sales dan region tertentu?"
   ]
  },
  {
   "cell_type": "markdown",
   "metadata": {},
   "source": [
    "### Dataset\n",
    "https://www.kaggle.com/datasets/bhanupratapbiswas/superstore-sales/data"
   ]
  },
  {
   "cell_type": "markdown",
   "metadata": {},
   "source": [
    "# Data Loading"
   ]
  },
  {
   "cell_type": "code",
   "execution_count": 1,
   "metadata": {},
   "outputs": [],
   "source": [
    "## Import function\n",
    "import pandas as pd\n",
    "import matplotlib.pyplot as plt\n",
    "from scipy import stats\n",
    "import numpy as np"
   ]
  },
  {
   "cell_type": "code",
   "execution_count": 2,
   "metadata": {},
   "outputs": [
    {
     "name": "stdout",
     "output_type": "stream",
     "text": [
      "<class 'pandas.core.frame.DataFrame'>\n",
      "RangeIndex: 9800 entries, 0 to 9799\n",
      "Data columns (total 18 columns):\n",
      " #   Column         Non-Null Count  Dtype  \n",
      "---  ------         --------------  -----  \n",
      " 0   Row_ID         9800 non-null   int64  \n",
      " 1   Order_ID       9800 non-null   object \n",
      " 2   Order_Date     9800 non-null   object \n",
      " 3   Ship_Date      9800 non-null   object \n",
      " 4   Ship_Mode      9800 non-null   object \n",
      " 5   Customer_ID    9800 non-null   object \n",
      " 6   Customer_Name  9800 non-null   object \n",
      " 7   Segment        9800 non-null   object \n",
      " 8   Country        9800 non-null   object \n",
      " 9   City           9800 non-null   object \n",
      " 10  State          9800 non-null   object \n",
      " 11  Postal_Code    9789 non-null   float64\n",
      " 12  Region         9800 non-null   object \n",
      " 13  Product_ID     9800 non-null   object \n",
      " 14  Category       9800 non-null   object \n",
      " 15  Sub_Category   9800 non-null   object \n",
      " 16  Product_Name   9800 non-null   object \n",
      " 17  Sales          9800 non-null   float64\n",
      "dtypes: float64(2), int64(1), object(15)\n",
      "memory usage: 1.3+ MB\n"
     ]
    }
   ],
   "source": [
    "## Load Data\n",
    "raw_data = pd.read_csv(\"superstore_final_dataset (1).csv\", encoding='latin-1')\n",
    "raw_data.info()"
   ]
  },
  {
   "cell_type": "code",
   "execution_count": 3,
   "metadata": {},
   "outputs": [
    {
     "data": {
      "text/html": [
       "<div>\n",
       "<style scoped>\n",
       "    .dataframe tbody tr th:only-of-type {\n",
       "        vertical-align: middle;\n",
       "    }\n",
       "\n",
       "    .dataframe tbody tr th {\n",
       "        vertical-align: top;\n",
       "    }\n",
       "\n",
       "    .dataframe thead th {\n",
       "        text-align: right;\n",
       "    }\n",
       "</style>\n",
       "<table border=\"1\" class=\"dataframe\">\n",
       "  <thead>\n",
       "    <tr style=\"text-align: right;\">\n",
       "      <th></th>\n",
       "      <th>Row_ID</th>\n",
       "      <th>Order_ID</th>\n",
       "      <th>Order_Date</th>\n",
       "      <th>Ship_Date</th>\n",
       "      <th>Ship_Mode</th>\n",
       "      <th>Customer_ID</th>\n",
       "      <th>Customer_Name</th>\n",
       "      <th>Segment</th>\n",
       "      <th>Country</th>\n",
       "      <th>City</th>\n",
       "      <th>State</th>\n",
       "      <th>Postal_Code</th>\n",
       "      <th>Region</th>\n",
       "      <th>Product_ID</th>\n",
       "      <th>Category</th>\n",
       "      <th>Sub_Category</th>\n",
       "      <th>Product_Name</th>\n",
       "      <th>Sales</th>\n",
       "    </tr>\n",
       "  </thead>\n",
       "  <tbody>\n",
       "    <tr>\n",
       "      <th>0</th>\n",
       "      <td>1</td>\n",
       "      <td>CA-2017-152156</td>\n",
       "      <td>8/11/2017</td>\n",
       "      <td>11/11/2017</td>\n",
       "      <td>Second Class</td>\n",
       "      <td>CG-12520</td>\n",
       "      <td>Claire Gute</td>\n",
       "      <td>Consumer</td>\n",
       "      <td>United States</td>\n",
       "      <td>Henderson</td>\n",
       "      <td>Kentucky</td>\n",
       "      <td>42420.0</td>\n",
       "      <td>South</td>\n",
       "      <td>FUR-BO-10001798</td>\n",
       "      <td>Furniture</td>\n",
       "      <td>Bookcases</td>\n",
       "      <td>Bush Somerset Collection Bookcase</td>\n",
       "      <td>261.9600</td>\n",
       "    </tr>\n",
       "    <tr>\n",
       "      <th>1</th>\n",
       "      <td>2</td>\n",
       "      <td>CA-2017-152156</td>\n",
       "      <td>8/11/2017</td>\n",
       "      <td>11/11/2017</td>\n",
       "      <td>Second Class</td>\n",
       "      <td>CG-12520</td>\n",
       "      <td>Claire Gute</td>\n",
       "      <td>Consumer</td>\n",
       "      <td>United States</td>\n",
       "      <td>Henderson</td>\n",
       "      <td>Kentucky</td>\n",
       "      <td>42420.0</td>\n",
       "      <td>South</td>\n",
       "      <td>FUR-CH-10000454</td>\n",
       "      <td>Furniture</td>\n",
       "      <td>Chairs</td>\n",
       "      <td>Hon Deluxe Fabric Upholstered Stacking Chairs,...</td>\n",
       "      <td>731.9400</td>\n",
       "    </tr>\n",
       "    <tr>\n",
       "      <th>2</th>\n",
       "      <td>3</td>\n",
       "      <td>CA-2017-138688</td>\n",
       "      <td>12/6/2017</td>\n",
       "      <td>16/06/2017</td>\n",
       "      <td>Second Class</td>\n",
       "      <td>DV-13045</td>\n",
       "      <td>Darrin Van Huff</td>\n",
       "      <td>Corporate</td>\n",
       "      <td>United States</td>\n",
       "      <td>Los Angeles</td>\n",
       "      <td>California</td>\n",
       "      <td>90036.0</td>\n",
       "      <td>West</td>\n",
       "      <td>OFF-LA-10000240</td>\n",
       "      <td>Office Supplies</td>\n",
       "      <td>Labels</td>\n",
       "      <td>Self-Adhesive Address Labels for Typewriters b...</td>\n",
       "      <td>14.6200</td>\n",
       "    </tr>\n",
       "    <tr>\n",
       "      <th>3</th>\n",
       "      <td>4</td>\n",
       "      <td>US-2016-108966</td>\n",
       "      <td>11/10/2016</td>\n",
       "      <td>18/10/2016</td>\n",
       "      <td>Standard Class</td>\n",
       "      <td>SO-20335</td>\n",
       "      <td>Sean O Donnel</td>\n",
       "      <td>Consumer</td>\n",
       "      <td>United States</td>\n",
       "      <td>Fort Lauderdale</td>\n",
       "      <td>Florida</td>\n",
       "      <td>33311.0</td>\n",
       "      <td>South</td>\n",
       "      <td>FUR-TA-10000577</td>\n",
       "      <td>Furniture</td>\n",
       "      <td>Tables</td>\n",
       "      <td>Bretford CR4500 Series Slim Rectangular Table</td>\n",
       "      <td>957.5775</td>\n",
       "    </tr>\n",
       "    <tr>\n",
       "      <th>4</th>\n",
       "      <td>5</td>\n",
       "      <td>US-2016-108966</td>\n",
       "      <td>11/10/2016</td>\n",
       "      <td>18/10/2016</td>\n",
       "      <td>Standard Class</td>\n",
       "      <td>SO-20335</td>\n",
       "      <td>Sean O Donnel</td>\n",
       "      <td>Consumer</td>\n",
       "      <td>United States</td>\n",
       "      <td>Fort Lauderdale</td>\n",
       "      <td>Florida</td>\n",
       "      <td>33311.0</td>\n",
       "      <td>South</td>\n",
       "      <td>OFF-ST-10000760</td>\n",
       "      <td>Office Supplies</td>\n",
       "      <td>Storage</td>\n",
       "      <td>Eldon Fold N Roll Cart System</td>\n",
       "      <td>22.3680</td>\n",
       "    </tr>\n",
       "  </tbody>\n",
       "</table>\n",
       "</div>"
      ],
      "text/plain": [
       "   Row_ID        Order_ID  Order_Date   Ship_Date       Ship_Mode Customer_ID  \\\n",
       "0       1  CA-2017-152156   8/11/2017  11/11/2017    Second Class    CG-12520   \n",
       "1       2  CA-2017-152156   8/11/2017  11/11/2017    Second Class    CG-12520   \n",
       "2       3  CA-2017-138688   12/6/2017  16/06/2017    Second Class    DV-13045   \n",
       "3       4  US-2016-108966  11/10/2016  18/10/2016  Standard Class    SO-20335   \n",
       "4       5  US-2016-108966  11/10/2016  18/10/2016  Standard Class    SO-20335   \n",
       "\n",
       "     Customer_Name    Segment        Country             City       State  \\\n",
       "0      Claire Gute   Consumer  United States        Henderson    Kentucky   \n",
       "1      Claire Gute   Consumer  United States        Henderson    Kentucky   \n",
       "2  Darrin Van Huff  Corporate  United States      Los Angeles  California   \n",
       "3    Sean O Donnel   Consumer  United States  Fort Lauderdale     Florida   \n",
       "4    Sean O Donnel   Consumer  United States  Fort Lauderdale     Florida   \n",
       "\n",
       "   Postal_Code Region       Product_ID         Category Sub_Category  \\\n",
       "0      42420.0  South  FUR-BO-10001798        Furniture    Bookcases   \n",
       "1      42420.0  South  FUR-CH-10000454        Furniture       Chairs   \n",
       "2      90036.0   West  OFF-LA-10000240  Office Supplies       Labels   \n",
       "3      33311.0  South  FUR-TA-10000577        Furniture       Tables   \n",
       "4      33311.0  South  OFF-ST-10000760  Office Supplies      Storage   \n",
       "\n",
       "                                        Product_Name     Sales  \n",
       "0                  Bush Somerset Collection Bookcase  261.9600  \n",
       "1  Hon Deluxe Fabric Upholstered Stacking Chairs,...  731.9400  \n",
       "2  Self-Adhesive Address Labels for Typewriters b...   14.6200  \n",
       "3      Bretford CR4500 Series Slim Rectangular Table  957.5775  \n",
       "4                      Eldon Fold N Roll Cart System   22.3680  "
      ]
     },
     "execution_count": 3,
     "metadata": {},
     "output_type": "execute_result"
    }
   ],
   "source": [
    "raw_data.head()"
   ]
  },
  {
   "cell_type": "code",
   "execution_count": 4,
   "metadata": {},
   "outputs": [
    {
     "data": {
      "text/plain": [
       "array(['Furniture', 'Office Supplies', 'Technology'], dtype=object)"
      ]
     },
     "execution_count": 4,
     "metadata": {},
     "output_type": "execute_result"
    }
   ],
   "source": [
    "## ada beberapa kategori\n",
    "raw_data['Category'].unique()"
   ]
  },
  {
   "cell_type": "code",
   "execution_count": 5,
   "metadata": {},
   "outputs": [
    {
     "data": {
      "text/plain": [
       "array(['Bookcases', 'Chairs', 'Labels', 'Tables', 'Storage',\n",
       "       'Furnishings', 'Art', 'Phones', 'Binders', 'Appliances', 'Paper',\n",
       "       'Accessories', 'Envelopes', 'Fasteners', 'Supplies', 'Machines',\n",
       "       'Copiers'], dtype=object)"
      ]
     },
     "execution_count": 5,
     "metadata": {},
     "output_type": "execute_result"
    }
   ],
   "source": [
    "## ada beberapa sub kategori\n",
    "raw_data['Sub_Category'].unique()"
   ]
  },
  {
   "cell_type": "markdown",
   "metadata": {},
   "source": [
    "# Data Cleaning"
   ]
  },
  {
   "cell_type": "code",
   "execution_count": 6,
   "metadata": {},
   "outputs": [
    {
     "data": {
      "text/plain": [
       "Index(['Row_ID', 'Order_ID', 'Order_Date', 'Ship_Date', 'Ship_Mode',\n",
       "       'Customer_ID', 'Customer_Name', 'Segment', 'Country', 'City', 'State',\n",
       "       'Postal_Code', 'Region', 'Product_ID', 'Category', 'Sub_Category',\n",
       "       'Product_Name', 'Sales'],\n",
       "      dtype='object')"
      ]
     },
     "execution_count": 6,
     "metadata": {},
     "output_type": "execute_result"
    }
   ],
   "source": [
    "df = raw_data.copy()\n",
    "df.columns"
   ]
  },
  {
   "cell_type": "code",
   "execution_count": 7,
   "metadata": {},
   "outputs": [],
   "source": [
    "## Drop columns yang tidak perlu\n",
    "df.drop(columns=['Row_ID','Customer_ID','Customer_Name','State','Postal_Code','Product_ID'], axis=1, inplace=True)"
   ]
  },
  {
   "cell_type": "code",
   "execution_count": 8,
   "metadata": {},
   "outputs": [
    {
     "data": {
      "text/plain": [
       "Order_ID        9800\n",
       "Order_Date      9800\n",
       "Ship_Date       9800\n",
       "Ship_Mode       9800\n",
       "Segment         9800\n",
       "Country         9800\n",
       "City            9800\n",
       "Region          9800\n",
       "Category        9800\n",
       "Sub_Category    9800\n",
       "Product_Name    9800\n",
       "Sales           9800\n",
       "dtype: int64"
      ]
     },
     "execution_count": 8,
     "metadata": {},
     "output_type": "execute_result"
    }
   ],
   "source": [
    "## Cek Null / Miss Value\n",
    "df.notnull().count()"
   ]
  },
  {
   "cell_type": "code",
   "execution_count": 9,
   "metadata": {},
   "outputs": [],
   "source": [
    "## Tidak melakukan handring outlier karena data penjualan berdasarkan tanggal"
   ]
  },
  {
   "cell_type": "code",
   "execution_count": 10,
   "metadata": {},
   "outputs": [],
   "source": [
    "## Ubah order tipe data date\n",
    "df['Order_Date'] = pd.to_datetime(df['Order_Date'], format='%d/%m/%Y')\n",
    "df['Ship_Date'] = pd.to_datetime(df['Ship_Date'], format='%d/%m/%Y')"
   ]
  },
  {
   "cell_type": "code",
   "execution_count": 11,
   "metadata": {},
   "outputs": [
    {
     "name": "stdout",
     "output_type": "stream",
     "text": [
      "<class 'pandas.core.frame.DataFrame'>\n",
      "RangeIndex: 9800 entries, 0 to 9799\n",
      "Data columns (total 12 columns):\n",
      " #   Column        Non-Null Count  Dtype         \n",
      "---  ------        --------------  -----         \n",
      " 0   Order_ID      9800 non-null   object        \n",
      " 1   Order_Date    9800 non-null   datetime64[ns]\n",
      " 2   Ship_Date     9800 non-null   datetime64[ns]\n",
      " 3   Ship_Mode     9800 non-null   object        \n",
      " 4   Segment       9800 non-null   object        \n",
      " 5   Country       9800 non-null   object        \n",
      " 6   City          9800 non-null   object        \n",
      " 7   Region        9800 non-null   object        \n",
      " 8   Category      9800 non-null   object        \n",
      " 9   Sub_Category  9800 non-null   object        \n",
      " 10  Product_Name  9800 non-null   object        \n",
      " 11  Sales         9800 non-null   float64       \n",
      "dtypes: datetime64[ns](2), float64(1), object(9)\n",
      "memory usage: 918.9+ KB\n"
     ]
    }
   ],
   "source": [
    "df.info()"
   ]
  },
  {
   "cell_type": "markdown",
   "metadata": {},
   "source": [
    "# Analisis & Perhitungan"
   ]
  },
  {
   "cell_type": "markdown",
   "metadata": {},
   "source": [
    "## Bagaimana tren dari kelesuruhan data (2015-2018)?"
   ]
  },
  {
   "cell_type": "code",
   "execution_count": 12,
   "metadata": {},
   "outputs": [
    {
     "data": {
      "image/png": "[encoded data removed]",
      "text/plain": [
       "<Figure size 720x432 with 1 Axes>"
      ]
     },
     "metadata": {
      "needs_background": "light"
     },
     "output_type": "display_data"
    }
   ],
   "source": [
    "## Copy df\n",
    "trend = df.copy()\n",
    "\n",
    "## tambah col year_month\n",
    "trend['Year_Month'] = trend['Order_Date'].dt.to_period('M')\n",
    "\n",
    "## jumlah sales perbulan\n",
    "sales_trends = trend.groupby('Year_Month')['Sales'].sum()\n",
    "\n",
    "# Plot data\n",
    "plt.figure(figsize=(10,6))\n",
    "sales_trends.plot(kind='line')\n",
    "plt.title('Sales Trends pada 2015 ke 2018')\n",
    "plt.xlabel('Bulan-Tahun')\n",
    "plt.ylabel('Sales')\n",
    "plt.show()"
   ]
  },
  {
   "cell_type": "markdown",
   "metadata": {},
   "source": [
    "- Tren penjualan umumnya hampir sama sepanjang tahun. Dalam beberapa bulan, penjualan naik dan turun. Tahun 2018 adalah tahun dengan penjualan tertinggi."
   ]
  },
  {
   "cell_type": "markdown",
   "metadata": {},
   "source": [
    "## Customer segment mana yang menghasilkan sales tertinggi dan terendah?"
   ]
  },
  {
   "cell_type": "code",
   "execution_count": 13,
   "metadata": {},
   "outputs": [
    {
     "data": {
      "image/png": "[encoded data removed]",
      "text/plain": [
       "<Figure size 720x432 with 1 Axes>"
      ]
     },
     "metadata": {
      "needs_background": "light"
     },
     "output_type": "display_data"
    }
   ],
   "source": [
    "# Create a copy of the dataframe\n",
    "segment_sales = df.copy()\n",
    "\n",
    "# Group data by 'Segment' and calculate total sales\n",
    "segment_sales = segment_sales.groupby('Segment')['Sales'].sum().reset_index()\n",
    "\n",
    "# Plot data using matplotlib\n",
    "plt.figure(figsize=(10,6))\n",
    "plt.bar(segment_sales['Segment'], segment_sales['Sales'])\n",
    "plt.title(\"Customer Segment Sales\")\n",
    "plt.xlabel('Segment')\n",
    "plt.ylabel('Sales')\n",
    "plt.show()\n"
   ]
  },
  {
   "cell_type": "markdown",
   "metadata": {},
   "source": [
    "- Customer segmen tertinggi yaitu consumer sedangkan terendah yaitu home office"
   ]
  },
  {
   "cell_type": "markdown",
   "metadata": {},
   "source": [
    "## Apa kategori produk terjual yang tertinggi dari sales 2015-2018"
   ]
  },
  {
   "cell_type": "code",
   "execution_count": 14,
   "metadata": {},
   "outputs": [
    {
     "data": {
      "image/png": "[encoded data removed]",
      "text/plain": [
       "<Figure size 720x432 with 1 Axes>"
      ]
     },
     "metadata": {
      "needs_background": "light"
     },
     "output_type": "display_data"
    }
   ],
   "source": [
    "sales_categ = df.copy()\n",
    "\n",
    "## Tambah col y\n",
    "sales_categ['Year'] = sales_categ['Order_Date'].dt.year\n",
    "\n",
    "## Kelompokkan data berdasarkan Kategori dan Tahun, lalu hitung total penjualan\n",
    "sales_by_category = sales_categ.groupby(['Category', 'Year'])['Sales'].sum()\n",
    "\n",
    "## Ubah data menjadi format pivot sehingga setiap tahun menjadi kolom terpisah\n",
    "sales_by_category_pivot = sales_by_category.unstack()\n",
    "\n",
    "## Plot data\n",
    "sales_by_category_pivot.plot(kind='bar', figsize=(10,6))\n",
    "plt.title('Sales by Product Category from 2015 to 2018')\n",
    "plt.xlabel('Product Category')\n",
    "plt.ylabel('Sales')\n",
    "plt.show()"
   ]
  },
  {
   "cell_type": "markdown",
   "metadata": {},
   "source": [
    "- Teknologi merupakan kategori yang paling populer, sedangkan Office supply merupakan kategori yang paling tidak populer"
   ]
  },
  {
   "cell_type": "markdown",
   "metadata": {},
   "source": [
    "## Apa sub-category produk yang merupakan slow-moving product atau produk yang paling sedikit penjualan?"
   ]
  },
  {
   "cell_type": "code",
   "execution_count": 15,
   "metadata": {},
   "outputs": [
    {
     "data": {
      "image/png": "[encoded data removed]",
      "text/plain": [
       "<Figure size 720x432 with 1 Axes>"
      ]
     },
     "metadata": {
      "needs_background": "light"
     },
     "output_type": "display_data"
    }
   ],
   "source": [
    "## Kelompokkan data berdasarkan Sub_Kategori dan hitung total penjualan\n",
    "sales_by_subcategory = df.groupby('Sub_Category')['Sales'].sum()\n",
    "\n",
    "## Urutkan data\n",
    "sales_by_subcategory = sales_by_subcategory.sort_values(ascending=False)\n",
    "\n",
    "## Plot data\n",
    "sales_by_subcategory.plot(kind='bar', figsize=(10,6))\n",
    "plt.title('Sales by Product Sub-Category')\n",
    "plt.xlabel('Product Sub-Category')\n",
    "plt.ylabel('Sales')\n",
    "plt.show()"
   ]
  },
  {
   "cell_type": "markdown",
   "metadata": {},
   "source": [
    "- dilihat dari sub kategori, barang dengan sub-category fasterners adalah barang yang bisa di sebut slow-moving product karena memiliki sales paling rendah\n",
    "- penjualan phones dan chairs merupakan yang terbaik"
   ]
  },
  {
   "cell_type": "markdown",
   "metadata": {},
   "source": [
    "## Berapa rata-rata sales tahunan nya?"
   ]
  },
  {
   "cell_type": "code",
   "execution_count": 16,
   "metadata": {},
   "outputs": [
    {
     "name": "stdout",
     "output_type": "stream",
     "text": [
      "Year\n",
      "2015    245.702103\n",
      "2016    223.569832\n",
      "2017    236.855781\n",
      "2018    221.624315\n",
      "Name: Sales, dtype: float64\n"
     ]
    }
   ],
   "source": [
    "## copy\n",
    "sales_year = df.copy()\n",
    "\n",
    "## Tambahkan kolom 'Year'\n",
    "sales_year['Year'] = sales_year['Order_Date'].dt.year\n",
    "\n",
    "## Kelompokkan data berdasarkan tahun dan hitung rata-rata penjualan\n",
    "average_sales_per_year = sales_year.groupby('Year')['Sales'].mean()\n",
    "\n",
    "print(average_sales_per_year)"
   ]
  },
  {
   "cell_type": "markdown",
   "metadata": {},
   "source": [
    "- dapat dilihat rata-rata sales tahunan paling tinggi pada tahun 2015"
   ]
  },
  {
   "cell_type": "markdown",
   "metadata": {},
   "source": [
    "## Yang mana lebih baik? Untuk rata-rata penjualan pada Region East atau West? "
   ]
  },
  {
   "cell_type": "markdown",
   "metadata": {},
   "source": [
    "- H0 : Rata-rata penjualan tahunan East == West\n",
    "- H1 : Rata-rata penjualan tahunan East != West"
   ]
  },
  {
   "cell_type": "code",
   "execution_count": 17,
   "metadata": {},
   "outputs": [
    {
     "name": "stdout",
     "output_type": "stream",
     "text": [
      "T-Statistic: 0.9507083426361699\n",
      "P-value: 0.34179124309767406\n"
     ]
    }
   ],
   "source": [
    "## Filter data untuk region East dan West\n",
    "East = df[df['Region'] == 'East']\n",
    "West = df[df['Region'] == 'West']\n",
    "\n",
    "t_stat, p_val = stats.ttest_ind(East['Sales'], West['Sales'])\n",
    "\n",
    "print('T-Statistic:', t_stat)\n",
    "print('P-value:', p_val)"
   ]
  },
  {
   "cell_type": "markdown",
   "metadata": {},
   "source": [
    "- hasil p value lbh kecil dari critical value, maka h0 ditolak, sehingga rata-rata penjualan east dan west berbeda"
   ]
  },
  {
   "cell_type": "markdown",
   "metadata": {},
   "source": [
    "## Adakah corelasi antara nilai sales dan region tertentu?"
   ]
  },
  {
   "cell_type": "code",
   "execution_count": 18,
   "metadata": {},
   "outputs": [
    {
     "name": "stdout",
     "output_type": "stream",
     "text": [
      "r-correlation: -0.01, p-value: 0.5667471210758276\n",
      "rho-correlation: 0.01, p-value: 0.6341467114183323\n",
      "tau-correlation: 0.01, p-value: 0.6252178599518909\n"
     ]
    }
   ],
   "source": [
    "## Filter\n",
    "east_sales = df[df['Region'] == 'East']['Sales']\n",
    "west_sales = df[df['Region'] == 'West']['Sales']\n",
    "\n",
    "# Pastikan kedua data memiliki jumlah yang sama\n",
    "if len(east_sales) != len(west_sales):\n",
    "    min_len = min(len(east_sales), len(west_sales))\n",
    "    east_sales = east_sales[:min_len]\n",
    "    west_sales = west_sales[:min_len]\n",
    "\n",
    "## Hitung korelasi Pearson\n",
    "corr_r, pval_p = stats.pearsonr(east_sales, west_sales)\n",
    "\n",
    "## Hitung korelasi Spearman\n",
    "corr_rho, pval_s = stats.spearmanr(east_sales, west_sales)\n",
    "\n",
    "## Hitung korelasi Kendall\n",
    "corr_tau, pval_k = stats.kendalltau(east_sales, west_sales)\n",
    "\n",
    "print(f\"r-correlation: {corr_r:.2f}, p-value: {pval_p}\")\n",
    "print(f\"rho-correlation: {corr_rho:.2f}, p-value: {pval_s}\")\n",
    "print(f\"tau-correlation: {corr_tau:.2f}, p-value: {pval_k}\")"
   ]
  },
  {
   "cell_type": "markdown",
   "metadata": {},
   "source": [
    "- Hasil yang didapatkan menunjukkan bahwa korelasi antara penjualan di region East dan West sangat lemah. Nilai korelasi mendekati 0 menunjukkan tidak ada hubungan linear atau monotonik yang kuat antara dua region tersebut."
   ]
  },
  {
   "cell_type": "markdown",
   "metadata": {},
   "source": [
    "# Kesimpulan"
   ]
  },
  {
   "cell_type": "markdown",
   "metadata": {},
   "source": [
    "- Buatlah diskon produk untuk yang lebih ke slow-moving product\n",
    "- Fokus pada penjualan Phones dan Chairs agar dapat mempertahankan nilai sales yang tinggi\n",
    "- Untuk pelanggan Home Offices mungkin sibuk dengan pekerjaan dan kurang memiliki waktu untuk memilih produk secara individual dibandingkan dengan pelanggan lainnya, jadi buatlah paket Home Office dengan produk yang digunakan untuk kantor: table, chairs, phones, copiers, storage, label, fasteners, bookcases.\n",
    "- Target segment lebih ke consumer dan corporate"
   ]
  }
 ],
 "metadata": {
  "kernelspec": {
   "display_name": "base",
   "language": "python",
   "name": "python3"
  },
  "language_info": {
   "codemirror_mode": {
    "name": "ipython",
    "version": 3
   },
   "file_extension": ".py",
   "mimetype": "text/x-python",
   "name": "python",
   "nbconvert_exporter": "python",
   "pygments_lexer": "ipython3",
   "version": "3.9.12"
  }
 },
 "nbformat": 4,
 "nbformat_minor": 2
}
